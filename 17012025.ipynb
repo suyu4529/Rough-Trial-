{
  "metadata": {
    "kernelspec": {
      "name": "python",
      "display_name": "Python (Pyodide)",
      "language": "python"
    },
    "language_info": {
      "codemirror_mode": {
        "name": "python",
        "version": 3
      },
      "file_extension": ".py",
      "mimetype": "text/x-python",
      "name": "python",
      "nbconvert_exporter": "python",
      "pygments_lexer": "ipython3",
      "version": "3.8"
    }
  },
  "nbformat_minor": 5,
  "nbformat": 4,
  "cells": [
    {
      "id": "f8149960-8ff0-4a97-8e61-976f691466ac",
      "cell_type": "code",
      "source": "# List in python \n\n# List is a collection of items in a particular order.\n# List is defined by using square brackets []\n# List is mutable, means we can change the items in the list.\n\n# Creating a list\n# List of items\nfruits = ['apple', 'banana', 'orange', 'grapes', 'mango']\nprint(fruits)",
      "metadata": {
        "trusted": true
      },
      "outputs": [
        {
          "name": "stdout",
          "output_type": "stream",
          "text": "['apple', 'banana', 'orange', 'grapes', 'mango']\n"
        }
      ],
      "execution_count": 1
    },
    {
      "id": "507fc813-95bd-453d-a7f6-e11d1a299dee",
      "cell_type": "code",
      "source": "# Accessing elements in a list\n# Index starts from 0\nprint(fruits[1])\nprint(fruits[3])",
      "metadata": {
        "trusted": true
      },
      "outputs": [
        {
          "name": "stdout",
          "output_type": "stream",
          "text": "banana\ngrapes\n"
        }
      ],
      "execution_count": 2
    },
    {
      "id": "00f9f95d-7b0e-47c5-a205-c9d5f429f7d8",
      "cell_type": "code",
      "source": "# Accessing elements from the end of the list\n# Index starts from -1\nprint(fruits[-1])",
      "metadata": {
        "trusted": true
      },
      "outputs": [
        {
          "name": "stdout",
          "output_type": "stream",
          "text": "mango\n"
        }
      ],
      "execution_count": 3
    },
    {
      "id": "c6f3f4b1-81d4-4043-b08d-4cbe0b995886",
      "cell_type": "code",
      "source": "# Modifying elements in a list\n# Changing the value of an element in a list\nfruits[1] = 'kiwi'\nprint(fruits)",
      "metadata": {
        "trusted": true
      },
      "outputs": [
        {
          "name": "stdout",
          "output_type": "stream",
          "text": "['apple', 'kiwi', 'orange', 'grapes', 'mango']\n"
        }
      ],
      "execution_count": 4
    },
    {
      "id": "9672a112-7f9d-4cc8-8e52-a4590e434cec",
      "cell_type": "code",
      "source": "# Inserting elements at a particular position in a list\nfruits.insert(2, 'papaya')\nprint(fruits)",
      "metadata": {
        "trusted": true
      },
      "outputs": [
        {
          "name": "stdout",
          "output_type": "stream",
          "text": "['apple', 'kiwi', 'papaya', 'orange', 'grapes', 'mango']\n"
        }
      ],
      "execution_count": 5
    },
    {
      "id": "ccdc1bc5-ea92-468f-a7be-68f0ef8dd8cc",
      "cell_type": "code",
      "source": "# Removing elements by using pop() method\n# pop() method removes the last element from the list\npopped_fruit = fruits.pop()\nprint(fruits)",
      "metadata": {
        "trusted": true
      },
      "outputs": [
        {
          "name": "stdout",
          "output_type": "stream",
          "text": "['apple', 'kiwi', 'papaya', 'orange', 'grapes']\n"
        }
      ],
      "execution_count": 6
    },
    {
      "id": "3d609324-8480-4fa8-af34-35fc1a54fa55",
      "cell_type": "code",
      "source": "fruits = ['apple', 'banana', 'orange', 'grapes', 'mango']\npopped_fruit = fruits.pop(2)\nprint(fruits)",
      "metadata": {
        "trusted": true
      },
      "outputs": [
        {
          "name": "stdout",
          "output_type": "stream",
          "text": "['apple', 'banana', 'grapes', 'mango']\n"
        }
      ],
      "execution_count": 7
    },
    {
      "id": "c4dc0f77-917a-4910-98d0-6afaf56f183d",
      "cell_type": "code",
      "source": "# Organizing a list\n# Sorting a list permanently\nfruits.sort()\nprint(fruits)",
      "metadata": {
        "trusted": true
      },
      "outputs": [
        {
          "name": "stdout",
          "output_type": "stream",
          "text": "['apple', 'banana', 'grapes', 'mango']\n"
        }
      ],
      "execution_count": 8
    },
    {
      "id": "96cf94bf-05b1-47df-ad93-91a5844f0e26",
      "cell_type": "code",
      "source": "# Sorting a list temporarily\nfruits = ['apple', 'banana', 'orange', 'grapes', 'mango']\nprint(sorted(fruits))",
      "metadata": {
        "trusted": true
      },
      "outputs": [
        {
          "name": "stdout",
          "output_type": "stream",
          "text": "['apple', 'banana', 'grapes', 'mango', 'orange']\n"
        }
      ],
      "execution_count": 9
    },
    {
      "id": "28597527-5381-45fe-a1e9-154f32cdedaf",
      "cell_type": "code",
      "source": "# Reversing a list\nfruits.reverse()\nprint(fruits)",
      "metadata": {
        "trusted": true
      },
      "outputs": [
        {
          "name": "stdout",
          "output_type": "stream",
          "text": "['mango', 'grapes', 'orange', 'banana', 'apple']\n"
        }
      ],
      "execution_count": 10
    },
    {
      "id": "91cee5c0-5113-4e51-bd3a-dacd920389ca",
      "cell_type": "code",
      "source": "# Finding the length of a list\nprint(len(fruits))",
      "metadata": {
        "trusted": true
      },
      "outputs": [
        {
          "name": "stdout",
          "output_type": "stream",
          "text": "5\n"
        }
      ],
      "execution_count": 11
    },
    {
      "id": "38516779-8745-47f7-a095-f7b75b103529",
      "cell_type": "code",
      "source": "# Looping through a list\nfor fruit in fruits:\n    print(fruit)",
      "metadata": {
        "trusted": true
      },
      "outputs": [
        {
          "name": "stdout",
          "output_type": "stream",
          "text": "mango\ngrapes\norange\nbanana\napple\n"
        }
      ],
      "execution_count": 12
    },
    {
      "id": "cc274c73-8152-4033-a983-126e2b908267",
      "cell_type": "code",
      "source": "# Using range() function to create a list of numbers\nnumbers = list(range(1, 11))\nprint(numbers)",
      "metadata": {
        "trusted": true
      },
      "outputs": [
        {
          "name": "stdout",
          "output_type": "stream",
          "text": "[1, 2, 3, 4, 5, 6, 7, 8, 9, 10]\n"
        }
      ],
      "execution_count": 13
    },
    {
      "id": "ca7ed9a2-8195-488e-b382-3328fd15c51b",
      "cell_type": "code",
      "source": "# List comprehension\nsquares = [value**2 for value in range(1, 11)]\nprint(squares)",
      "metadata": {
        "trusted": true
      },
      "outputs": [
        {
          "name": "stdout",
          "output_type": "stream",
          "text": "[1, 4, 9, 16, 25, 36, 49, 64, 81, 100]\n"
        }
      ],
      "execution_count": 14
    },
    {
      "id": "1432e263-57db-48b0-ab39-da2ecfd5d2f3",
      "cell_type": "code",
      "source": "fruits = ['apple','banana','grapes','orange','mango']\nprint(fruits[2])\nprint(fruits[1:4])\nprint(fruits[2:5])\nfruits.append('cherry')\nprint(fruits)\nfruits.insert(1,'kiwi')",
      "metadata": {
        "trusted": true
      },
      "outputs": [
        {
          "name": "stdout",
          "output_type": "stream",
          "text": "grapes\n['banana', 'grapes', 'orange']\n['grapes', 'orange', 'mango']\n['apple', 'banana', 'grapes', 'orange', 'mango', 'cherry']\n"
        }
      ],
      "execution_count": 23
    },
    {
      "id": "f8757acd-2d07-4f64-93ec-1cae734076d7",
      "cell_type": "code",
      "source": "print(fruits)",
      "metadata": {
        "trusted": true
      },
      "outputs": [
        {
          "name": "stdout",
          "output_type": "stream",
          "text": "['apple', 'kiwi', 'banana', 'grapes', 'orange', 'mango', 'cherry']\n"
        }
      ],
      "execution_count": 24
    },
    {
      "id": "c5a70a2d-5fa4-4b47-bea4-f4dcf083eb1e",
      "cell_type": "code",
      "source": "fruits2 = ['pineapple','berry','chikoo','muskmelon']\nprint(fruits2)\nfruits.extend(fruits2)",
      "metadata": {
        "trusted": true
      },
      "outputs": [
        {
          "name": "stdout",
          "output_type": "stream",
          "text": "['pineapple', 'berry', 'chikoo', 'muskmelon']\n"
        }
      ],
      "execution_count": 28
    },
    {
      "id": "66eaedfa-f8c8-4c65-ac6c-dc5fa2a36c32",
      "cell_type": "code",
      "source": "print(fruits)",
      "metadata": {
        "trusted": true
      },
      "outputs": [
        {
          "name": "stdout",
          "output_type": "stream",
          "text": "['apple', 'kiwi', 'banana', 'grapes', 'orange', 'mango', 'cherry', 'pineapple', 'berry', 'chikoo', 'muskmelon']\n"
        }
      ],
      "execution_count": 29
    },
    {
      "id": "3c0f167a-d062-4f14-9230-efb8b25ffa08",
      "cell_type": "code",
      "source": "print(fruits[2:6])\nprint(fruits[1:4])\nprint(fruits[-1])\nprint(fruits[-5])",
      "metadata": {
        "trusted": true
      },
      "outputs": [
        {
          "name": "stdout",
          "output_type": "stream",
          "text": "['banana', 'grapes', 'orange', 'mango']\n['kiwi', 'banana', 'grapes']\nmuskmelon\ncherry\n"
        }
      ],
      "execution_count": 35
    },
    {
      "id": "1d1ff43f-e609-4882-aae4-618249a3abe7",
      "cell_type": "code",
      "source": "# Copying a list\nfruits_copy = fruits[:]\nprint(fruits_copy)",
      "metadata": {
        "trusted": true
      },
      "outputs": [
        {
          "name": "stdout",
          "output_type": "stream",
          "text": "['apple', 'kiwi', 'banana', 'grapes', 'orange', 'mango', 'cherry', 'pineapple', 'berry', 'chikoo', 'muskmelon']\n"
        }
      ],
      "execution_count": 36
    },
    {
      "id": "3455332e-1258-4ada-aec2-2607bfe4eb27",
      "cell_type": "code",
      "source": "# List in python \n\n# List is a collection of items in a particular order.\n# List is defined by using square brackets []\n# List is mutable, means we can change the items in the list.\n\n# Creating a list\n# List of items\nfruits = ['apple', 'banana', 'orange', 'grapes', 'mango']\nprint(fruits)",
      "metadata": {
        "trusted": true
      },
      "outputs": [
        {
          "name": "stdout",
          "output_type": "stream",
          "text": "['apple', 'banana', 'orange', 'grapes', 'mango']\n"
        }
      ],
      "execution_count": 37
    },
    {
      "id": "4d82a625-217c-4950-9aaf-bd02a6a8dd7d",
      "cell_type": "code",
      "source": "# Accessing elements in a list\n# Index starts from 0\nprint(fruits[1])\nprint(fruits[3])",
      "metadata": {
        "trusted": true
      },
      "outputs": [
        {
          "name": "stdout",
          "output_type": "stream",
          "text": "banana\ngrapes\n"
        }
      ],
      "execution_count": 38
    },
    {
      "id": "a0a49c37-3c32-4033-8871-9f4908b8bce8",
      "cell_type": "code",
      "source": "# Accessing elements from the end of the list\n# Index starts from -1\nprint(fruits[-4:-1])",
      "metadata": {
        "trusted": true
      },
      "outputs": [
        {
          "name": "stdout",
          "output_type": "stream",
          "text": "['banana', 'orange', 'grapes']\n"
        }
      ],
      "execution_count": 41
    }
  ]
}